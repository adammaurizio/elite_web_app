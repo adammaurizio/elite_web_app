{
 "cells": [
  {
   "cell_type": "markdown",
   "source": "# Import Library",
   "metadata": {
    "tags": [],
    "is_collapsed": false,
    "cell_id": "00000-2730affd-e056-4e75-ba89-e91f774aa34d",
    "deepnote_cell_type": "text-cell-h1"
   }
  },
  {
   "cell_type": "code",
   "metadata": {
    "tags": [],
    "cell_id": "00001-1ad5b653-3b7b-4d14-818b-3818154c91f9",
    "deepnote_to_be_reexecuted": false,
    "source_hash": "24b26b86",
    "execution_start": 1640184107599,
    "execution_millis": 1987,
    "deepnote_cell_type": "code"
   },
   "source": "import pandas as pd\nimport numpy as np\nimport matplotlib.pyplot as plt\nimport seaborn as sns",
   "execution_count": 1,
   "outputs": []
  },
  {
   "cell_type": "code",
   "metadata": {
    "tags": [],
    "cell_id": "00002-bee5b5fb-410e-45d9-bcae-2279255d612a",
    "deepnote_to_be_reexecuted": false,
    "source_hash": "17e3dbca",
    "execution_start": 1640184109595,
    "execution_millis": 6,
    "deepnote_cell_type": "code"
   },
   "source": "import warnings\nwarnings.filterwarnings('ignore')",
   "execution_count": 2,
   "outputs": []
  },
  {
   "cell_type": "markdown",
   "source": "# Scraping Dataset with Kaggle API",
   "metadata": {
    "tags": [],
    "is_collapsed": false,
    "cell_id": "00002-91faec03-83b0-4914-88a5-31be598982a5",
    "deepnote_cell_type": "text-cell-h1"
   }
  },
  {
   "cell_type": "code",
   "metadata": {
    "tags": [],
    "cell_id": "00003-0cf0e92d-c42d-48ef-b885-777da0f7ca1f",
    "deepnote_to_be_reexecuted": false,
    "source_hash": "9f13285c",
    "execution_start": 1640184109605,
    "execution_millis": 5243,
    "deepnote_cell_type": "code"
   },
   "source": "! pip install kaggle",
   "execution_count": 3,
   "outputs": [
    {
     "name": "stdout",
     "text": "Requirement already satisfied: kaggle in /root/venv/lib/python3.7/site-packages (1.5.12)\nRequirement already satisfied: six>=1.10 in /shared-libs/python3.7/py-core/lib/python3.7/site-packages (from kaggle) (1.16.0)\nRequirement already satisfied: urllib3 in /shared-libs/python3.7/py/lib/python3.7/site-packages (from kaggle) (1.26.7)\nRequirement already satisfied: python-dateutil in /shared-libs/python3.7/py-core/lib/python3.7/site-packages (from kaggle) (2.8.2)\nRequirement already satisfied: certifi in /shared-libs/python3.7/py/lib/python3.7/site-packages (from kaggle) (2021.10.8)\nRequirement already satisfied: requests in /shared-libs/python3.7/py/lib/python3.7/site-packages (from kaggle) (2.26.0)\nRequirement already satisfied: python-slugify in /shared-libs/python3.7/py/lib/python3.7/site-packages (from kaggle) (5.0.2)\nRequirement already satisfied: tqdm in /shared-libs/python3.7/py/lib/python3.7/site-packages (from kaggle) (4.62.3)\nRequirement already satisfied: idna<4,>=2.5; python_version >= \"3\" in /shared-libs/python3.7/py-core/lib/python3.7/site-packages (from requests->kaggle) (3.3)\nRequirement already satisfied: charset-normalizer~=2.0.0; python_version >= \"3\" in /shared-libs/python3.7/py-core/lib/python3.7/site-packages (from requests->kaggle) (2.0.9)\nRequirement already satisfied: text-unidecode>=1.3 in /shared-libs/python3.7/py/lib/python3.7/site-packages (from python-slugify->kaggle) (1.3)\n\u001b[33mWARNING: You are using pip version 20.1.1; however, version 21.3.1 is available.\nYou should consider upgrading via the '/root/venv/bin/python -m pip install --upgrade pip' command.\u001b[0m\n",
     "output_type": "stream",
     "data": {}
    }
   ]
  },
  {
   "cell_type": "code",
   "metadata": {
    "tags": [],
    "cell_id": "00004-470bf356-11d9-4051-8c74-14a481d2267a",
    "deepnote_to_be_reexecuted": false,
    "source_hash": "1839a6f4",
    "execution_start": 1640184114849,
    "execution_millis": 274,
    "deepnote_cell_type": "code"
   },
   "source": "! mkdir ~/.kaggle",
   "execution_count": 4,
   "outputs": [
    {
     "name": "stdout",
     "text": "mkdir: cannot create directory ‘/root/.kaggle’: File exists\r\n",
     "output_type": "stream",
     "data": {}
    }
   ]
  },
  {
   "cell_type": "code",
   "metadata": {
    "tags": [],
    "cell_id": "00005-49737a99-2897-4bdf-a71c-8d88379dca39",
    "deepnote_to_be_reexecuted": false,
    "source_hash": "f44afe5f",
    "execution_start": 1640184115130,
    "execution_millis": 277,
    "deepnote_cell_type": "code"
   },
   "source": "! cp kaggle.json ~/.kaggle/",
   "execution_count": 5,
   "outputs": []
  },
  {
   "cell_type": "code",
   "metadata": {
    "tags": [],
    "cell_id": "00006-9de647f4-6a7b-4d8f-87f8-6763729a9ca1",
    "deepnote_to_be_reexecuted": false,
    "source_hash": "f1ca99e4",
    "execution_start": 1640184115413,
    "execution_millis": 300,
    "deepnote_cell_type": "code"
   },
   "source": "! chmod 600 ~/.kaggle/kaggle.json",
   "execution_count": 6,
   "outputs": []
  },
  {
   "cell_type": "code",
   "metadata": {
    "tags": [],
    "cell_id": "00007-933f2c74-6a65-44b5-858f-3f126e297772",
    "deepnote_to_be_reexecuted": false,
    "source_hash": "e8dddb67",
    "execution_start": 1640184115724,
    "execution_millis": 1071,
    "deepnote_cell_type": "code"
   },
   "source": "! kaggle datasets download tejashvi14/employee-future-prediction",
   "execution_count": 7,
   "outputs": [
    {
     "name": "stdout",
     "text": "employee-future-prediction.zip: Skipping, found more recently modified local copy (use --force to force download)\r\n",
     "output_type": "stream",
     "data": {}
    }
   ]
  },
  {
   "cell_type": "code",
   "metadata": {
    "tags": [],
    "cell_id": "00008-16874ec2-29be-481d-a857-980fdfd79bd2",
    "deepnote_to_be_reexecuted": false,
    "source_hash": "9f254711",
    "execution_start": 1640184116806,
    "execution_millis": 1130,
    "deepnote_cell_type": "code"
   },
   "source": "! kaggle datasets download tejashvi14/employee-future-prediction -f employee.csv",
   "execution_count": 8,
   "outputs": [
    {
     "name": "stdout",
     "text": "Employee.csv: Skipping, found more recently modified local copy (use --force to force download)\r\n",
     "output_type": "stream",
     "data": {}
    }
   ]
  },
  {
   "cell_type": "code",
   "metadata": {
    "tags": [],
    "cell_id": "00009-35bab9c6-ebf9-4dc6-801f-90da61e8dd4e",
    "deepnote_to_be_reexecuted": false,
    "source_hash": "c500742c",
    "execution_start": 1640184117959,
    "execution_millis": 1840,
    "deepnote_cell_type": "code"
   },
   "source": "df = pd.read_excel('Employee.xlsx')\ndf.head()",
   "execution_count": 9,
   "outputs": [
    {
     "output_type": "execute_result",
     "execution_count": 9,
     "data": {
      "application/vnd.deepnote.dataframe.v3+json": {
       "column_count": 9,
       "row_count": 5,
       "columns": [
        {
         "name": "Education",
         "dtype": "object",
         "stats": {
          "unique_count": 2,
          "nan_count": 0,
          "categories": [
           {
            "name": "Bachelors",
            "count": 3
           },
           {
            "name": "Masters",
            "count": 2
           }
          ]
         }
        },
        {
         "name": "JoiningYear",
         "dtype": "int64",
         "stats": {
          "unique_count": 4,
          "nan_count": 0,
          "min": "2013",
          "max": "2017",
          "histogram": [
           {
            "bin_start": 2013,
            "bin_end": 2013.4,
            "count": 1
           },
           {
            "bin_start": 2013.4,
            "bin_end": 2013.8,
            "count": 0
           },
           {
            "bin_start": 2013.8,
            "bin_end": 2014.2,
            "count": 1
           },
           {
            "bin_start": 2014.2,
            "bin_end": 2014.6,
            "count": 0
           },
           {
            "bin_start": 2014.6,
            "bin_end": 2015,
            "count": 0
           },
           {
            "bin_start": 2015,
            "bin_end": 2015.4,
            "count": 0
           },
           {
            "bin_start": 2015.4,
            "bin_end": 2015.8,
            "count": 0
           },
           {
            "bin_start": 2015.8,
            "bin_end": 2016.2,
            "count": 1
           },
           {
            "bin_start": 2016.2,
            "bin_end": 2016.6,
            "count": 0
           },
           {
            "bin_start": 2016.6,
            "bin_end": 2017,
            "count": 2
           }
          ]
         }
        },
        {
         "name": "City",
         "dtype": "object",
         "stats": {
          "unique_count": 3,
          "nan_count": 0,
          "categories": [
           {
            "name": "Bangalore",
            "count": 2
           },
           {
            "name": "Pune",
            "count": 2
           },
           {
            "name": "New Delhi",
            "count": 1
           }
          ]
         }
        },
        {
         "name": "PaymentTier",
         "dtype": "int64",
         "stats": {
          "unique_count": 2,
          "nan_count": 0,
          "min": "1",
          "max": "3",
          "histogram": [
           {
            "bin_start": 1,
            "bin_end": 1.2,
            "count": 1
           },
           {
            "bin_start": 1.2,
            "bin_end": 1.4,
            "count": 0
           },
           {
            "bin_start": 1.4,
            "bin_end": 1.6,
            "count": 0
           },
           {
            "bin_start": 1.6,
            "bin_end": 1.8,
            "count": 0
           },
           {
            "bin_start": 1.8,
            "bin_end": 2,
            "count": 0
           },
           {
            "bin_start": 2,
            "bin_end": 2.2,
            "count": 0
           },
           {
            "bin_start": 2.2,
            "bin_end": 2.4000000000000004,
            "count": 0
           },
           {
            "bin_start": 2.4000000000000004,
            "bin_end": 2.6,
            "count": 0
           },
           {
            "bin_start": 2.6,
            "bin_end": 2.8,
            "count": 0
           },
           {
            "bin_start": 2.8,
            "bin_end": 3,
            "count": 4
           }
          ]
         }
        },
        {
         "name": "Age",
         "dtype": "int64",
         "stats": {
          "unique_count": 5,
          "nan_count": 0,
          "min": "24",
          "max": "38",
          "histogram": [
           {
            "bin_start": 24,
            "bin_end": 25.4,
            "count": 1
           },
           {
            "bin_start": 25.4,
            "bin_end": 26.8,
            "count": 0
           },
           {
            "bin_start": 26.8,
            "bin_end": 28.2,
            "count": 2
           },
           {
            "bin_start": 28.2,
            "bin_end": 29.6,
            "count": 0
           },
           {
            "bin_start": 29.6,
            "bin_end": 31,
            "count": 0
           },
           {
            "bin_start": 31,
            "bin_end": 32.4,
            "count": 0
           },
           {
            "bin_start": 32.4,
            "bin_end": 33.8,
            "count": 0
           },
           {
            "bin_start": 33.8,
            "bin_end": 35.2,
            "count": 1
           },
           {
            "bin_start": 35.2,
            "bin_end": 36.6,
            "count": 0
           },
           {
            "bin_start": 36.6,
            "bin_end": 38,
            "count": 1
           }
          ]
         }
        },
        {
         "name": "Gender",
         "dtype": "object",
         "stats": {
          "unique_count": 2,
          "nan_count": 0,
          "categories": [
           {
            "name": "Male",
            "count": 3
           },
           {
            "name": "Female",
            "count": 2
           }
          ]
         }
        },
        {
         "name": "EverBenched",
         "dtype": "object",
         "stats": {
          "unique_count": 2,
          "nan_count": 0,
          "categories": [
           {
            "name": "No",
            "count": 4
           },
           {
            "name": "Yes",
            "count": 1
           }
          ]
         }
        },
        {
         "name": "ExperienceInCurrentDomain",
         "dtype": "int64",
         "stats": {
          "unique_count": 4,
          "nan_count": 0,
          "min": "0",
          "max": "5",
          "histogram": [
           {
            "bin_start": 0,
            "bin_end": 0.5,
            "count": 1
           },
           {
            "bin_start": 0.5,
            "bin_end": 1,
            "count": 0
           },
           {
            "bin_start": 1,
            "bin_end": 1.5,
            "count": 0
           },
           {
            "bin_start": 1.5,
            "bin_end": 2,
            "count": 0
           },
           {
            "bin_start": 2,
            "bin_end": 2.5,
            "count": 2
           },
           {
            "bin_start": 2.5,
            "bin_end": 3,
            "count": 0
           },
           {
            "bin_start": 3,
            "bin_end": 3.5,
            "count": 1
           },
           {
            "bin_start": 3.5,
            "bin_end": 4,
            "count": 0
           },
           {
            "bin_start": 4,
            "bin_end": 4.5,
            "count": 0
           },
           {
            "bin_start": 4.5,
            "bin_end": 5,
            "count": 1
           }
          ]
         }
        },
        {
         "name": "LeaveOrNot",
         "dtype": "int64",
         "stats": {
          "unique_count": 2,
          "nan_count": 0,
          "min": "0",
          "max": "1",
          "histogram": [
           {
            "bin_start": 0,
            "bin_end": 0.1,
            "count": 2
           },
           {
            "bin_start": 0.1,
            "bin_end": 0.2,
            "count": 0
           },
           {
            "bin_start": 0.2,
            "bin_end": 0.30000000000000004,
            "count": 0
           },
           {
            "bin_start": 0.30000000000000004,
            "bin_end": 0.4,
            "count": 0
           },
           {
            "bin_start": 0.4,
            "bin_end": 0.5,
            "count": 0
           },
           {
            "bin_start": 0.5,
            "bin_end": 0.6000000000000001,
            "count": 0
           },
           {
            "bin_start": 0.6000000000000001,
            "bin_end": 0.7000000000000001,
            "count": 0
           },
           {
            "bin_start": 0.7000000000000001,
            "bin_end": 0.8,
            "count": 0
           },
           {
            "bin_start": 0.8,
            "bin_end": 0.9,
            "count": 0
           },
           {
            "bin_start": 0.9,
            "bin_end": 1,
            "count": 3
           }
          ]
         }
        },
        {
         "name": "_deepnote_index_column",
         "dtype": "int64"
        }
       ],
       "rows": [
        {
         "Education": "Bachelors",
         "JoiningYear": 2017,
         "City": "Bangalore",
         "PaymentTier": 3,
         "Age": 34,
         "Gender": "Male",
         "EverBenched": "No",
         "ExperienceInCurrentDomain": 0,
         "LeaveOrNot": 0,
         "_deepnote_index_column": 0
        },
        {
         "Education": "Bachelors",
         "JoiningYear": 2013,
         "City": "Pune",
         "PaymentTier": 1,
         "Age": 28,
         "Gender": "Female",
         "EverBenched": "No",
         "ExperienceInCurrentDomain": 3,
         "LeaveOrNot": 1,
         "_deepnote_index_column": 1
        },
        {
         "Education": "Bachelors",
         "JoiningYear": 2014,
         "City": "New Delhi",
         "PaymentTier": 3,
         "Age": 38,
         "Gender": "Female",
         "EverBenched": "No",
         "ExperienceInCurrentDomain": 2,
         "LeaveOrNot": 0,
         "_deepnote_index_column": 2
        },
        {
         "Education": "Masters",
         "JoiningYear": 2016,
         "City": "Bangalore",
         "PaymentTier": 3,
         "Age": 27,
         "Gender": "Male",
         "EverBenched": "No",
         "ExperienceInCurrentDomain": 5,
         "LeaveOrNot": 1,
         "_deepnote_index_column": 3
        },
        {
         "Education": "Masters",
         "JoiningYear": 2017,
         "City": "Pune",
         "PaymentTier": 3,
         "Age": 24,
         "Gender": "Male",
         "EverBenched": "Yes",
         "ExperienceInCurrentDomain": 2,
         "LeaveOrNot": 1,
         "_deepnote_index_column": 4
        }
       ]
      },
      "text/plain": "   Education  JoiningYear       City  PaymentTier  Age  Gender EverBenched  \\\n0  Bachelors         2017  Bangalore            3   34    Male          No   \n1  Bachelors         2013       Pune            1   28  Female          No   \n2  Bachelors         2014  New Delhi            3   38  Female          No   \n3    Masters         2016  Bangalore            3   27    Male          No   \n4    Masters         2017       Pune            3   24    Male         Yes   \n\n   ExperienceInCurrentDomain  LeaveOrNot  \n0                          0           0  \n1                          3           1  \n2                          2           0  \n3                          5           1  \n4                          2           1  ",
      "text/html": "<div>\n<style scoped>\n    .dataframe tbody tr th:only-of-type {\n        vertical-align: middle;\n    }\n\n    .dataframe tbody tr th {\n        vertical-align: top;\n    }\n\n    .dataframe thead th {\n        text-align: right;\n    }\n</style>\n<table border=\"1\" class=\"dataframe\">\n  <thead>\n    <tr style=\"text-align: right;\">\n      <th></th>\n      <th>Education</th>\n      <th>JoiningYear</th>\n      <th>City</th>\n      <th>PaymentTier</th>\n      <th>Age</th>\n      <th>Gender</th>\n      <th>EverBenched</th>\n      <th>ExperienceInCurrentDomain</th>\n      <th>LeaveOrNot</th>\n    </tr>\n  </thead>\n  <tbody>\n    <tr>\n      <th>0</th>\n      <td>Bachelors</td>\n      <td>2017</td>\n      <td>Bangalore</td>\n      <td>3</td>\n      <td>34</td>\n      <td>Male</td>\n      <td>No</td>\n      <td>0</td>\n      <td>0</td>\n    </tr>\n    <tr>\n      <th>1</th>\n      <td>Bachelors</td>\n      <td>2013</td>\n      <td>Pune</td>\n      <td>1</td>\n      <td>28</td>\n      <td>Female</td>\n      <td>No</td>\n      <td>3</td>\n      <td>1</td>\n    </tr>\n    <tr>\n      <th>2</th>\n      <td>Bachelors</td>\n      <td>2014</td>\n      <td>New Delhi</td>\n      <td>3</td>\n      <td>38</td>\n      <td>Female</td>\n      <td>No</td>\n      <td>2</td>\n      <td>0</td>\n    </tr>\n    <tr>\n      <th>3</th>\n      <td>Masters</td>\n      <td>2016</td>\n      <td>Bangalore</td>\n      <td>3</td>\n      <td>27</td>\n      <td>Male</td>\n      <td>No</td>\n      <td>5</td>\n      <td>1</td>\n    </tr>\n    <tr>\n      <th>4</th>\n      <td>Masters</td>\n      <td>2017</td>\n      <td>Pune</td>\n      <td>3</td>\n      <td>24</td>\n      <td>Male</td>\n      <td>Yes</td>\n      <td>2</td>\n      <td>1</td>\n    </tr>\n  </tbody>\n</table>\n</div>"
     },
     "metadata": {}
    }
   ]
  },
  {
   "cell_type": "markdown",
   "source": "# Data Preprocessing",
   "metadata": {
    "tags": [],
    "is_collapsed": false,
    "cell_id": "00010-0c4e22a9-d856-404a-8990-30d6d1ec60c0",
    "deepnote_cell_type": "text-cell-h1"
   }
  },
  {
   "cell_type": "markdown",
   "source": "### Data Types",
   "metadata": {
    "tags": [],
    "is_collapsed": false,
    "cell_id": "00012-a6de4c19-3e56-46b4-8c0e-57f6c067685d",
    "deepnote_cell_type": "text-cell-h3"
   }
  },
  {
   "cell_type": "code",
   "metadata": {
    "tags": [],
    "cell_id": "00012-9d26f7da-b5c4-4937-b65d-37f600cfe167",
    "deepnote_to_be_reexecuted": false,
    "source_hash": "52430027",
    "execution_start": 1640184119891,
    "execution_millis": 6,
    "deepnote_output_heights": [
     193.875
    ],
    "deepnote_cell_type": "code"
   },
   "source": "df.dtypes",
   "execution_count": 12,
   "outputs": [
    {
     "output_type": "execute_result",
     "execution_count": 12,
     "data": {
      "text/plain": "Education                    object\nJoiningYear                   int64\nCity                         object\nPaymentTier                   int64\nAge                           int64\nGender                       object\nEverBenched                  object\nExperienceInCurrentDomain     int64\nLeaveOrNot                    int64\ndtype: object"
     },
     "metadata": {}
    }
   ]
  },
  {
   "cell_type": "code",
   "metadata": {
    "tags": [],
    "cell_id": "00013-93fd16e2-428d-4125-a61a-83703ca8ef82",
    "deepnote_to_be_reexecuted": false,
    "source_hash": "a102a54",
    "execution_start": 1640184119892,
    "execution_millis": 5,
    "deepnote_cell_type": "code"
   },
   "source": "df['PaymentTier'] = df['PaymentTier'].astype('category')\ndf['Education'] = df['Education'].astype('category')\ndf['City'] = df['City'].astype('category')\ndf['Gender'] = df['Gender'].astype('category')\ndf['EverBenched'] = df['EverBenched'].astype('category')\ndf['LeaveOrNot'] = df['LeaveOrNot'].astype('category')",
   "execution_count": 13,
   "outputs": []
  },
  {
   "cell_type": "code",
   "metadata": {
    "tags": [],
    "cell_id": "00015-a3d265f7-aae0-4fb0-9816-3b87dbf6613f",
    "deepnote_to_be_reexecuted": false,
    "source_hash": "d233e865",
    "execution_start": 1640184119894,
    "execution_millis": 5,
    "deepnote_output_heights": [
     78.75
    ],
    "deepnote_cell_type": "code"
   },
   "source": "df['Education'].value_counts()\ndf['City'].value_counts()",
   "execution_count": 14,
   "outputs": [
    {
     "output_type": "execute_result",
     "execution_count": 14,
     "data": {
      "text/plain": "Bangalore    2410\nPune         1342\nNew Delhi    1248\nName: City, dtype: int64"
     },
     "metadata": {}
    }
   ]
  },
  {
   "cell_type": "code",
   "metadata": {
    "tags": [],
    "cell_id": "00014-268d1a48-7fb1-4774-9ac4-117b6c22443b",
    "deepnote_to_be_reexecuted": false,
    "source_hash": "52430027",
    "execution_start": 1640184119900,
    "execution_millis": 8,
    "deepnote_output_heights": [
     193.875
    ],
    "deepnote_cell_type": "code"
   },
   "source": "df.dtypes",
   "execution_count": 15,
   "outputs": [
    {
     "output_type": "execute_result",
     "execution_count": 15,
     "data": {
      "text/plain": "Education                    category\nJoiningYear                     int64\nCity                         category\nPaymentTier                  category\nAge                             int64\nGender                       category\nEverBenched                  category\nExperienceInCurrentDomain       int64\nLeaveOrNot                   category\ndtype: object"
     },
     "metadata": {}
    }
   ]
  },
  {
   "cell_type": "markdown",
   "source": "### Missing Value",
   "metadata": {
    "tags": [],
    "is_collapsed": false,
    "cell_id": "00013-f1917964-71ac-4ccf-b5b9-4f69d9fd3118",
    "deepnote_cell_type": "text-cell-h3"
   }
  },
  {
   "cell_type": "code",
   "metadata": {
    "tags": [],
    "cell_id": "00013-7eb18d20-25b4-430d-8021-47c06e0a80a7",
    "deepnote_to_be_reexecuted": false,
    "source_hash": "f3dd26da",
    "execution_start": 1640184119959,
    "execution_millis": 0,
    "deepnote_output_heights": [
     193.875
    ],
    "deepnote_cell_type": "code"
   },
   "source": "df.isnull().sum()",
   "execution_count": 16,
   "outputs": [
    {
     "output_type": "execute_result",
     "execution_count": 16,
     "data": {
      "text/plain": "Education                    0\nJoiningYear                  0\nCity                         0\nPaymentTier                  0\nAge                          0\nGender                       0\nEverBenched                  0\nExperienceInCurrentDomain    0\nLeaveOrNot                   0\ndtype: int64"
     },
     "metadata": {}
    }
   ]
  },
  {
   "cell_type": "code",
   "metadata": {
    "tags": [],
    "cell_id": "00018-5c471182-4c0a-4f78-a756-8ad252ebfddc",
    "deepnote_to_be_reexecuted": false,
    "source_hash": "5ca1771",
    "execution_start": 1640184119960,
    "execution_millis": 3,
    "deepnote_output_heights": [
     40.375
    ],
    "deepnote_cell_type": "code"
   },
   "source": "df['Education'].unique()",
   "execution_count": 17,
   "outputs": [
    {
     "output_type": "execute_result",
     "execution_count": 17,
     "data": {
      "text/plain": "['Bachelors', 'Masters', 'PHD']\nCategories (3, object): ['Bachelors', 'Masters', 'PHD']"
     },
     "metadata": {}
    }
   ]
  },
  {
   "cell_type": "markdown",
   "source": "### Duplicate Value",
   "metadata": {
    "tags": [],
    "is_collapsed": false,
    "cell_id": "00015-d55d839f-d705-4f69-8829-95c62d422b10",
    "deepnote_cell_type": "text-cell-h3"
   }
  },
  {
   "cell_type": "code",
   "metadata": {
    "tags": [],
    "cell_id": "00015-19904a13-2c2d-4e1c-ab70-9bd73e6a1fe0",
    "deepnote_to_be_reexecuted": false,
    "source_hash": "164ee62d",
    "execution_start": 1640184119961,
    "execution_millis": 257,
    "deepnote_cell_type": "code"
   },
   "source": "colnames = df.columns\ndupl = df.duplicated(subset = ['Education', 'JoiningYear', 'City', 'Age', 'Gender'], keep = False)\ndf[dupl].sort_values(by='Age')",
   "execution_count": 18,
   "outputs": [
    {
     "output_type": "execute_result",
     "execution_count": 18,
     "data": {
      "application/vnd.deepnote.dataframe.v3+json": {
       "column_count": 9,
       "row_count": 4496,
       "columns": [
        {
         "name": "Education",
         "dtype": "category",
         "stats": {
          "unique_count": 3,
          "nan_count": 0,
          "categories": [
           {
            "name": "Bachelors",
            "count": 3649
           },
           {
            "name": "Masters",
            "count": 770
           },
           {
            "name": "PHD",
            "count": 77
           }
          ]
         }
        },
        {
         "name": "JoiningYear",
         "dtype": "int64",
         "stats": {
          "unique_count": 7,
          "nan_count": 0,
          "min": "2012",
          "max": "2018",
          "histogram": [
           {
            "bin_start": 2012,
            "bin_end": 2012.6,
            "count": 472
           },
           {
            "bin_start": 2012.6,
            "bin_end": 2013.2,
            "count": 669
           },
           {
            "bin_start": 2013.2,
            "bin_end": 2013.8,
            "count": 0
           },
           {
            "bin_start": 2013.8,
            "bin_end": 2014.4,
            "count": 676
           },
           {
            "bin_start": 2014.4,
            "bin_end": 2015,
            "count": 0
           },
           {
            "bin_start": 2015,
            "bin_end": 2015.6,
            "count": 747
           },
           {
            "bin_start": 2015.6,
            "bin_end": 2016.2,
            "count": 520
           },
           {
            "bin_start": 2016.2,
            "bin_end": 2016.8,
            "count": 0
           },
           {
            "bin_start": 2016.8,
            "bin_end": 2017.4,
            "count": 1099
           },
           {
            "bin_start": 2017.4,
            "bin_end": 2018,
            "count": 313
           }
          ]
         }
        },
        {
         "name": "City",
         "dtype": "category",
         "stats": {
          "unique_count": 3,
          "nan_count": 0,
          "categories": [
           {
            "name": "Bangalore",
            "count": 2261
           },
           {
            "name": "Pune",
            "count": 1191
           },
           {
            "name": "New Delhi",
            "count": 1044
           }
          ]
         }
        },
        {
         "name": "PaymentTier",
         "dtype": "category",
         "stats": {
          "unique_count": 3,
          "nan_count": 0,
          "categories": [
           {
            "name": "3",
            "count": 3276
           },
           {
            "name": "2",
            "count": 927
           },
           {
            "name": "1",
            "count": 293
           }
          ]
         }
        },
        {
         "name": "Age",
         "dtype": "int64",
         "stats": {
          "unique_count": 20,
          "nan_count": 0,
          "min": "22",
          "max": "41",
          "histogram": [
           {
            "bin_start": 22,
            "bin_end": 23.9,
            "count": 89
           },
           {
            "bin_start": 23.9,
            "bin_end": 25.8,
            "count": 794
           },
           {
            "bin_start": 25.8,
            "bin_end": 27.7,
            "count": 1259
           },
           {
            "bin_start": 27.7,
            "bin_end": 29.6,
            "count": 844
           },
           {
            "bin_start": 29.6,
            "bin_end": 31.5,
            "count": 320
           },
           {
            "bin_start": 31.5,
            "bin_end": 33.4,
            "count": 241
           },
           {
            "bin_start": 33.4,
            "bin_end": 35.3,
            "count": 250
           },
           {
            "bin_start": 35.3,
            "bin_end": 37.2,
            "count": 251
           },
           {
            "bin_start": 37.2,
            "bin_end": 39.099999999999994,
            "count": 252
           },
           {
            "bin_start": 39.099999999999994,
            "bin_end": 41,
            "count": 196
           }
          ]
         }
        },
        {
         "name": "Gender",
         "dtype": "category",
         "stats": {
          "unique_count": 2,
          "nan_count": 0,
          "categories": [
           {
            "name": "Male",
            "count": 2708
           },
           {
            "name": "Female",
            "count": 1788
           }
          ]
         }
        },
        {
         "name": "EverBenched",
         "dtype": "category",
         "stats": {
          "unique_count": 2,
          "nan_count": 0,
          "categories": [
           {
            "name": "No",
            "count": 4011
           },
           {
            "name": "Yes",
            "count": 485
           }
          ]
         }
        },
        {
         "name": "ExperienceInCurrentDomain",
         "dtype": "int64",
         "stats": {
          "unique_count": 8,
          "nan_count": 0,
          "min": "0",
          "max": "7",
          "histogram": [
           {
            "bin_start": 0,
            "bin_end": 0.7,
            "count": 335
           },
           {
            "bin_start": 0.7,
            "bin_end": 1.4,
            "count": 513
           },
           {
            "bin_start": 1.4,
            "bin_end": 2.0999999999999996,
            "count": 1015
           },
           {
            "bin_start": 2.0999999999999996,
            "bin_end": 2.8,
            "count": 0
           },
           {
            "bin_start": 2.8,
            "bin_end": 3.5,
            "count": 761
           },
           {
            "bin_start": 3.5,
            "bin_end": 4.199999999999999,
            "count": 910
           },
           {
            "bin_start": 4.199999999999999,
            "bin_end": 4.8999999999999995,
            "count": 0
           },
           {
            "bin_start": 4.8999999999999995,
            "bin_end": 5.6,
            "count": 886
           },
           {
            "bin_start": 5.6,
            "bin_end": 6.3,
            "count": 42
           },
           {
            "bin_start": 6.3,
            "bin_end": 7,
            "count": 34
           }
          ]
         }
        },
        {
         "name": "LeaveOrNot",
         "dtype": "category",
         "stats": {
          "unique_count": 2,
          "nan_count": 0,
          "categories": [
           {
            "name": "0",
            "count": 2977
           },
           {
            "name": "1",
            "count": 1519
           }
          ]
         }
        },
        {
         "name": "_deepnote_index_column",
         "dtype": "int64"
        }
       ],
       "rows": [
        {
         "Education": "Bachelors",
         "JoiningYear": 2015,
         "City": "Pune",
         "PaymentTier": 1,
         "Age": 22,
         "Gender": "Female",
         "EverBenched": "No",
         "ExperienceInCurrentDomain": 0,
         "LeaveOrNot": 1,
         "_deepnote_index_column": 4070
        },
        {
         "Education": "Bachelors",
         "JoiningYear": 2015,
         "City": "New Delhi",
         "PaymentTier": 3,
         "Age": 22,
         "Gender": "Male",
         "EverBenched": "No",
         "ExperienceInCurrentDomain": 0,
         "LeaveOrNot": 0,
         "_deepnote_index_column": 4119
        },
        {
         "Education": "Bachelors",
         "JoiningYear": 2014,
         "City": "Bangalore",
         "PaymentTier": 3,
         "Age": 22,
         "Gender": "Male",
         "EverBenched": "No",
         "ExperienceInCurrentDomain": 0,
         "LeaveOrNot": 0,
         "_deepnote_index_column": 4098
        },
        {
         "Education": "Bachelors",
         "JoiningYear": 2016,
         "City": "Bangalore",
         "PaymentTier": 1,
         "Age": 22,
         "Gender": "Male",
         "EverBenched": "Yes",
         "ExperienceInCurrentDomain": 6,
         "LeaveOrNot": 1,
         "_deepnote_index_column": 4852
        },
        {
         "Education": "Bachelors",
         "JoiningYear": 2015,
         "City": "New Delhi",
         "PaymentTier": 3,
         "Age": 22,
         "Gender": "Male",
         "EverBenched": "No",
         "ExperienceInCurrentDomain": 0,
         "LeaveOrNot": 0,
         "_deepnote_index_column": 91
        },
        {
         "Education": "Bachelors",
         "JoiningYear": 2016,
         "City": "Bangalore",
         "PaymentTier": 3,
         "Age": 22,
         "Gender": "Male",
         "EverBenched": "No",
         "ExperienceInCurrentDomain": 0,
         "LeaveOrNot": 0,
         "_deepnote_index_column": 4436
        },
        {
         "Education": "Bachelors",
         "JoiningYear": 2014,
         "City": "Bangalore",
         "PaymentTier": 3,
         "Age": 22,
         "Gender": "Male",
         "EverBenched": "No",
         "ExperienceInCurrentDomain": 0,
         "LeaveOrNot": 0,
         "_deepnote_index_column": 4048
        },
        {
         "Education": "Bachelors",
         "JoiningYear": 2016,
         "City": "Bangalore",
         "PaymentTier": 3,
         "Age": 22,
         "Gender": "Male",
         "EverBenched": "No",
         "ExperienceInCurrentDomain": 0,
         "LeaveOrNot": 0,
         "_deepnote_index_column": 4025
        },
        {
         "Education": "Masters",
         "JoiningYear": 2016,
         "City": "New Delhi",
         "PaymentTier": 1,
         "Age": 22,
         "Gender": "Male",
         "EverBenched": "No",
         "ExperienceInCurrentDomain": 5,
         "LeaveOrNot": 1,
         "_deepnote_index_column": 4806
        },
        {
         "Education": "Bachelors",
         "JoiningYear": 2012,
         "City": "New Delhi",
         "PaymentTier": 3,
         "Age": 22,
         "Gender": "Female",
         "EverBenched": "No",
         "ExperienceInCurrentDomain": 0,
         "LeaveOrNot": 0,
         "_deepnote_index_column": 4024
        }
       ]
      },
      "text/plain": "      Education  JoiningYear       City PaymentTier  Age  Gender EverBenched  \\\n4070  Bachelors         2015       Pune           1   22  Female          No   \n4119  Bachelors         2015  New Delhi           3   22    Male          No   \n4098  Bachelors         2014  Bangalore           3   22    Male          No   \n4852  Bachelors         2016  Bangalore           1   22    Male         Yes   \n91    Bachelors         2015  New Delhi           3   22    Male          No   \n...         ...          ...        ...         ...  ...     ...         ...   \n3114  Bachelors         2016  Bangalore           3   41    Male          No   \n3602    Masters         2017  New Delhi           2   41    Male          No   \n3583  Bachelors         2017       Pune           3   41    Male          No   \n3321  Bachelors         2014  Bangalore           3   41    Male          No   \n3422        PHD         2013  Bangalore           2   41    Male          No   \n\n      ExperienceInCurrentDomain LeaveOrNot  \n4070                          0          1  \n4119                          0          0  \n4098                          0          0  \n4852                          6          1  \n91                            0          0  \n...                         ...        ...  \n3114                          1          0  \n3602                          3          1  \n3583                          2          0  \n3321                          4          0  \n3422                          2          1  \n\n[4496 rows x 9 columns]",
      "text/html": "<div>\n<style scoped>\n    .dataframe tbody tr th:only-of-type {\n        vertical-align: middle;\n    }\n\n    .dataframe tbody tr th {\n        vertical-align: top;\n    }\n\n    .dataframe thead th {\n        text-align: right;\n    }\n</style>\n<table border=\"1\" class=\"dataframe\">\n  <thead>\n    <tr style=\"text-align: right;\">\n      <th></th>\n      <th>Education</th>\n      <th>JoiningYear</th>\n      <th>City</th>\n      <th>PaymentTier</th>\n      <th>Age</th>\n      <th>Gender</th>\n      <th>EverBenched</th>\n      <th>ExperienceInCurrentDomain</th>\n      <th>LeaveOrNot</th>\n    </tr>\n  </thead>\n  <tbody>\n    <tr>\n      <th>4070</th>\n      <td>Bachelors</td>\n      <td>2015</td>\n      <td>Pune</td>\n      <td>1</td>\n      <td>22</td>\n      <td>Female</td>\n      <td>No</td>\n      <td>0</td>\n      <td>1</td>\n    </tr>\n    <tr>\n      <th>4119</th>\n      <td>Bachelors</td>\n      <td>2015</td>\n      <td>New Delhi</td>\n      <td>3</td>\n      <td>22</td>\n      <td>Male</td>\n      <td>No</td>\n      <td>0</td>\n      <td>0</td>\n    </tr>\n    <tr>\n      <th>4098</th>\n      <td>Bachelors</td>\n      <td>2014</td>\n      <td>Bangalore</td>\n      <td>3</td>\n      <td>22</td>\n      <td>Male</td>\n      <td>No</td>\n      <td>0</td>\n      <td>0</td>\n    </tr>\n    <tr>\n      <th>4852</th>\n      <td>Bachelors</td>\n      <td>2016</td>\n      <td>Bangalore</td>\n      <td>1</td>\n      <td>22</td>\n      <td>Male</td>\n      <td>Yes</td>\n      <td>6</td>\n      <td>1</td>\n    </tr>\n    <tr>\n      <th>91</th>\n      <td>Bachelors</td>\n      <td>2015</td>\n      <td>New Delhi</td>\n      <td>3</td>\n      <td>22</td>\n      <td>Male</td>\n      <td>No</td>\n      <td>0</td>\n      <td>0</td>\n    </tr>\n    <tr>\n      <th>...</th>\n      <td>...</td>\n      <td>...</td>\n      <td>...</td>\n      <td>...</td>\n      <td>...</td>\n      <td>...</td>\n      <td>...</td>\n      <td>...</td>\n      <td>...</td>\n    </tr>\n    <tr>\n      <th>3114</th>\n      <td>Bachelors</td>\n      <td>2016</td>\n      <td>Bangalore</td>\n      <td>3</td>\n      <td>41</td>\n      <td>Male</td>\n      <td>No</td>\n      <td>1</td>\n      <td>0</td>\n    </tr>\n    <tr>\n      <th>3602</th>\n      <td>Masters</td>\n      <td>2017</td>\n      <td>New Delhi</td>\n      <td>2</td>\n      <td>41</td>\n      <td>Male</td>\n      <td>No</td>\n      <td>3</td>\n      <td>1</td>\n    </tr>\n    <tr>\n      <th>3583</th>\n      <td>Bachelors</td>\n      <td>2017</td>\n      <td>Pune</td>\n      <td>3</td>\n      <td>41</td>\n      <td>Male</td>\n      <td>No</td>\n      <td>2</td>\n      <td>0</td>\n    </tr>\n    <tr>\n      <th>3321</th>\n      <td>Bachelors</td>\n      <td>2014</td>\n      <td>Bangalore</td>\n      <td>3</td>\n      <td>41</td>\n      <td>Male</td>\n      <td>No</td>\n      <td>4</td>\n      <td>0</td>\n    </tr>\n    <tr>\n      <th>3422</th>\n      <td>PHD</td>\n      <td>2013</td>\n      <td>Bangalore</td>\n      <td>2</td>\n      <td>41</td>\n      <td>Male</td>\n      <td>No</td>\n      <td>2</td>\n      <td>1</td>\n    </tr>\n  </tbody>\n</table>\n<p>4496 rows × 9 columns</p>\n</div>"
     },
     "metadata": {}
    }
   ]
  },
  {
   "cell_type": "markdown",
   "source": "### Label Encoding",
   "metadata": {
    "tags": [],
    "is_collapsed": false,
    "cell_id": "00019-d354cbc2-f59b-45e6-9eaf-d67a5cdb9660",
    "deepnote_cell_type": "text-cell-h3"
   }
  },
  {
   "cell_type": "code",
   "metadata": {
    "tags": [],
    "cell_id": "00020-81d84933-995d-4777-9207-c175bb5d9eab",
    "deepnote_to_be_reexecuted": false,
    "source_hash": "29f60d20",
    "execution_start": 1640184120221,
    "execution_millis": 770,
    "deepnote_cell_type": "code"
   },
   "source": "from sklearn import preprocessing\n \n# label_encoder object knows how to understand word labels.\nle = preprocessing.LabelEncoder()\n \n# Encode labels in column 'species'.\ndf['Education']= le.fit_transform(df['Education'])\ndf['City']= le.fit_transform(df['City'])\ndf['PaymentTier']= le.fit_transform(df['PaymentTier'])\ndf['Gender']= le.fit_transform(df['Gender'])\ndf['EverBenched']= le.fit_transform(df['EverBenched'])\ndf['LeaveOrNot']= le.fit_transform(df['LeaveOrNot'])",
   "execution_count": 19,
   "outputs": []
  },
  {
   "cell_type": "code",
   "metadata": {
    "tags": [],
    "cell_id": "00023-eb7707ac-7518-4762-9a01-c7f058910e6d",
    "deepnote_to_be_reexecuted": false,
    "source_hash": "b623e53d",
    "execution_start": 1640184120997,
    "execution_millis": 41,
    "deepnote_cell_type": "code"
   },
   "source": "",
   "execution_count": 19,
   "outputs": []
  },
  {
   "cell_type": "code",
   "metadata": {
    "tags": [],
    "cell_id": "00021-17b8b712-a9a2-4662-b1f1-b483c46d086f",
    "deepnote_to_be_reexecuted": false,
    "source_hash": "c085b6ba",
    "execution_start": 1640184121039,
    "execution_millis": 49,
    "deepnote_cell_type": "code"
   },
   "source": "df.head()",
   "execution_count": 20,
   "outputs": [
    {
     "output_type": "execute_result",
     "execution_count": 20,
     "data": {
      "application/vnd.deepnote.dataframe.v3+json": {
       "column_count": 9,
       "row_count": 5,
       "columns": [
        {
         "name": "Education",
         "dtype": "int64",
         "stats": {
          "unique_count": 2,
          "nan_count": 0,
          "min": "0",
          "max": "1",
          "histogram": [
           {
            "bin_start": 0,
            "bin_end": 0.1,
            "count": 3
           },
           {
            "bin_start": 0.1,
            "bin_end": 0.2,
            "count": 0
           },
           {
            "bin_start": 0.2,
            "bin_end": 0.30000000000000004,
            "count": 0
           },
           {
            "bin_start": 0.30000000000000004,
            "bin_end": 0.4,
            "count": 0
           },
           {
            "bin_start": 0.4,
            "bin_end": 0.5,
            "count": 0
           },
           {
            "bin_start": 0.5,
            "bin_end": 0.6000000000000001,
            "count": 0
           },
           {
            "bin_start": 0.6000000000000001,
            "bin_end": 0.7000000000000001,
            "count": 0
           },
           {
            "bin_start": 0.7000000000000001,
            "bin_end": 0.8,
            "count": 0
           },
           {
            "bin_start": 0.8,
            "bin_end": 0.9,
            "count": 0
           },
           {
            "bin_start": 0.9,
            "bin_end": 1,
            "count": 2
           }
          ]
         }
        },
        {
         "name": "JoiningYear",
         "dtype": "int64",
         "stats": {
          "unique_count": 4,
          "nan_count": 0,
          "min": "2013",
          "max": "2017",
          "histogram": [
           {
            "bin_start": 2013,
            "bin_end": 2013.4,
            "count": 1
           },
           {
            "bin_start": 2013.4,
            "bin_end": 2013.8,
            "count": 0
           },
           {
            "bin_start": 2013.8,
            "bin_end": 2014.2,
            "count": 1
           },
           {
            "bin_start": 2014.2,
            "bin_end": 2014.6,
            "count": 0
           },
           {
            "bin_start": 2014.6,
            "bin_end": 2015,
            "count": 0
           },
           {
            "bin_start": 2015,
            "bin_end": 2015.4,
            "count": 0
           },
           {
            "bin_start": 2015.4,
            "bin_end": 2015.8,
            "count": 0
           },
           {
            "bin_start": 2015.8,
            "bin_end": 2016.2,
            "count": 1
           },
           {
            "bin_start": 2016.2,
            "bin_end": 2016.6,
            "count": 0
           },
           {
            "bin_start": 2016.6,
            "bin_end": 2017,
            "count": 2
           }
          ]
         }
        },
        {
         "name": "City",
         "dtype": "int64",
         "stats": {
          "unique_count": 3,
          "nan_count": 0,
          "min": "0",
          "max": "2",
          "histogram": [
           {
            "bin_start": 0,
            "bin_end": 0.2,
            "count": 2
           },
           {
            "bin_start": 0.2,
            "bin_end": 0.4,
            "count": 0
           },
           {
            "bin_start": 0.4,
            "bin_end": 0.6000000000000001,
            "count": 0
           },
           {
            "bin_start": 0.6000000000000001,
            "bin_end": 0.8,
            "count": 0
           },
           {
            "bin_start": 0.8,
            "bin_end": 1,
            "count": 0
           },
           {
            "bin_start": 1,
            "bin_end": 1.2000000000000002,
            "count": 1
           },
           {
            "bin_start": 1.2000000000000002,
            "bin_end": 1.4000000000000001,
            "count": 0
           },
           {
            "bin_start": 1.4000000000000001,
            "bin_end": 1.6,
            "count": 0
           },
           {
            "bin_start": 1.6,
            "bin_end": 1.8,
            "count": 0
           },
           {
            "bin_start": 1.8,
            "bin_end": 2,
            "count": 2
           }
          ]
         }
        },
        {
         "name": "PaymentTier",
         "dtype": "int64",
         "stats": {
          "unique_count": 2,
          "nan_count": 0,
          "min": "0",
          "max": "2",
          "histogram": [
           {
            "bin_start": 0,
            "bin_end": 0.2,
            "count": 1
           },
           {
            "bin_start": 0.2,
            "bin_end": 0.4,
            "count": 0
           },
           {
            "bin_start": 0.4,
            "bin_end": 0.6000000000000001,
            "count": 0
           },
           {
            "bin_start": 0.6000000000000001,
            "bin_end": 0.8,
            "count": 0
           },
           {
            "bin_start": 0.8,
            "bin_end": 1,
            "count": 0
           },
           {
            "bin_start": 1,
            "bin_end": 1.2000000000000002,
            "count": 0
           },
           {
            "bin_start": 1.2000000000000002,
            "bin_end": 1.4000000000000001,
            "count": 0
           },
           {
            "bin_start": 1.4000000000000001,
            "bin_end": 1.6,
            "count": 0
           },
           {
            "bin_start": 1.6,
            "bin_end": 1.8,
            "count": 0
           },
           {
            "bin_start": 1.8,
            "bin_end": 2,
            "count": 4
           }
          ]
         }
        },
        {
         "name": "Age",
         "dtype": "int64",
         "stats": {
          "unique_count": 5,
          "nan_count": 0,
          "min": "24",
          "max": "38",
          "histogram": [
           {
            "bin_start": 24,
            "bin_end": 25.4,
            "count": 1
           },
           {
            "bin_start": 25.4,
            "bin_end": 26.8,
            "count": 0
           },
           {
            "bin_start": 26.8,
            "bin_end": 28.2,
            "count": 2
           },
           {
            "bin_start": 28.2,
            "bin_end": 29.6,
            "count": 0
           },
           {
            "bin_start": 29.6,
            "bin_end": 31,
            "count": 0
           },
           {
            "bin_start": 31,
            "bin_end": 32.4,
            "count": 0
           },
           {
            "bin_start": 32.4,
            "bin_end": 33.8,
            "count": 0
           },
           {
            "bin_start": 33.8,
            "bin_end": 35.2,
            "count": 1
           },
           {
            "bin_start": 35.2,
            "bin_end": 36.6,
            "count": 0
           },
           {
            "bin_start": 36.6,
            "bin_end": 38,
            "count": 1
           }
          ]
         }
        },
        {
         "name": "Gender",
         "dtype": "int64",
         "stats": {
          "unique_count": 2,
          "nan_count": 0,
          "min": "0",
          "max": "1",
          "histogram": [
           {
            "bin_start": 0,
            "bin_end": 0.1,
            "count": 2
           },
           {
            "bin_start": 0.1,
            "bin_end": 0.2,
            "count": 0
           },
           {
            "bin_start": 0.2,
            "bin_end": 0.30000000000000004,
            "count": 0
           },
           {
            "bin_start": 0.30000000000000004,
            "bin_end": 0.4,
            "count": 0
           },
           {
            "bin_start": 0.4,
            "bin_end": 0.5,
            "count": 0
           },
           {
            "bin_start": 0.5,
            "bin_end": 0.6000000000000001,
            "count": 0
           },
           {
            "bin_start": 0.6000000000000001,
            "bin_end": 0.7000000000000001,
            "count": 0
           },
           {
            "bin_start": 0.7000000000000001,
            "bin_end": 0.8,
            "count": 0
           },
           {
            "bin_start": 0.8,
            "bin_end": 0.9,
            "count": 0
           },
           {
            "bin_start": 0.9,
            "bin_end": 1,
            "count": 3
           }
          ]
         }
        },
        {
         "name": "EverBenched",
         "dtype": "int64",
         "stats": {
          "unique_count": 2,
          "nan_count": 0,
          "min": "0",
          "max": "1",
          "histogram": [
           {
            "bin_start": 0,
            "bin_end": 0.1,
            "count": 4
           },
           {
            "bin_start": 0.1,
            "bin_end": 0.2,
            "count": 0
           },
           {
            "bin_start": 0.2,
            "bin_end": 0.30000000000000004,
            "count": 0
           },
           {
            "bin_start": 0.30000000000000004,
            "bin_end": 0.4,
            "count": 0
           },
           {
            "bin_start": 0.4,
            "bin_end": 0.5,
            "count": 0
           },
           {
            "bin_start": 0.5,
            "bin_end": 0.6000000000000001,
            "count": 0
           },
           {
            "bin_start": 0.6000000000000001,
            "bin_end": 0.7000000000000001,
            "count": 0
           },
           {
            "bin_start": 0.7000000000000001,
            "bin_end": 0.8,
            "count": 0
           },
           {
            "bin_start": 0.8,
            "bin_end": 0.9,
            "count": 0
           },
           {
            "bin_start": 0.9,
            "bin_end": 1,
            "count": 1
           }
          ]
         }
        },
        {
         "name": "ExperienceInCurrentDomain",
         "dtype": "int64",
         "stats": {
          "unique_count": 4,
          "nan_count": 0,
          "min": "0",
          "max": "5",
          "histogram": [
           {
            "bin_start": 0,
            "bin_end": 0.5,
            "count": 1
           },
           {
            "bin_start": 0.5,
            "bin_end": 1,
            "count": 0
           },
           {
            "bin_start": 1,
            "bin_end": 1.5,
            "count": 0
           },
           {
            "bin_start": 1.5,
            "bin_end": 2,
            "count": 0
           },
           {
            "bin_start": 2,
            "bin_end": 2.5,
            "count": 2
           },
           {
            "bin_start": 2.5,
            "bin_end": 3,
            "count": 0
           },
           {
            "bin_start": 3,
            "bin_end": 3.5,
            "count": 1
           },
           {
            "bin_start": 3.5,
            "bin_end": 4,
            "count": 0
           },
           {
            "bin_start": 4,
            "bin_end": 4.5,
            "count": 0
           },
           {
            "bin_start": 4.5,
            "bin_end": 5,
            "count": 1
           }
          ]
         }
        },
        {
         "name": "LeaveOrNot",
         "dtype": "int64",
         "stats": {
          "unique_count": 2,
          "nan_count": 0,
          "min": "0",
          "max": "1",
          "histogram": [
           {
            "bin_start": 0,
            "bin_end": 0.1,
            "count": 2
           },
           {
            "bin_start": 0.1,
            "bin_end": 0.2,
            "count": 0
           },
           {
            "bin_start": 0.2,
            "bin_end": 0.30000000000000004,
            "count": 0
           },
           {
            "bin_start": 0.30000000000000004,
            "bin_end": 0.4,
            "count": 0
           },
           {
            "bin_start": 0.4,
            "bin_end": 0.5,
            "count": 0
           },
           {
            "bin_start": 0.5,
            "bin_end": 0.6000000000000001,
            "count": 0
           },
           {
            "bin_start": 0.6000000000000001,
            "bin_end": 0.7000000000000001,
            "count": 0
           },
           {
            "bin_start": 0.7000000000000001,
            "bin_end": 0.8,
            "count": 0
           },
           {
            "bin_start": 0.8,
            "bin_end": 0.9,
            "count": 0
           },
           {
            "bin_start": 0.9,
            "bin_end": 1,
            "count": 3
           }
          ]
         }
        },
        {
         "name": "_deepnote_index_column",
         "dtype": "int64"
        }
       ],
       "rows": [
        {
         "Education": 0,
         "JoiningYear": 2017,
         "City": 0,
         "PaymentTier": 2,
         "Age": 34,
         "Gender": 1,
         "EverBenched": 0,
         "ExperienceInCurrentDomain": 0,
         "LeaveOrNot": 0,
         "_deepnote_index_column": 0
        },
        {
         "Education": 0,
         "JoiningYear": 2013,
         "City": 2,
         "PaymentTier": 0,
         "Age": 28,
         "Gender": 0,
         "EverBenched": 0,
         "ExperienceInCurrentDomain": 3,
         "LeaveOrNot": 1,
         "_deepnote_index_column": 1
        },
        {
         "Education": 0,
         "JoiningYear": 2014,
         "City": 1,
         "PaymentTier": 2,
         "Age": 38,
         "Gender": 0,
         "EverBenched": 0,
         "ExperienceInCurrentDomain": 2,
         "LeaveOrNot": 0,
         "_deepnote_index_column": 2
        },
        {
         "Education": 1,
         "JoiningYear": 2016,
         "City": 0,
         "PaymentTier": 2,
         "Age": 27,
         "Gender": 1,
         "EverBenched": 0,
         "ExperienceInCurrentDomain": 5,
         "LeaveOrNot": 1,
         "_deepnote_index_column": 3
        },
        {
         "Education": 1,
         "JoiningYear": 2017,
         "City": 2,
         "PaymentTier": 2,
         "Age": 24,
         "Gender": 1,
         "EverBenched": 1,
         "ExperienceInCurrentDomain": 2,
         "LeaveOrNot": 1,
         "_deepnote_index_column": 4
        }
       ]
      },
      "text/plain": "   Education  JoiningYear  City  PaymentTier  Age  Gender  EverBenched  \\\n0          0         2017     0            2   34       1            0   \n1          0         2013     2            0   28       0            0   \n2          0         2014     1            2   38       0            0   \n3          1         2016     0            2   27       1            0   \n4          1         2017     2            2   24       1            1   \n\n   ExperienceInCurrentDomain  LeaveOrNot  \n0                          0           0  \n1                          3           1  \n2                          2           0  \n3                          5           1  \n4                          2           1  ",
      "text/html": "<div>\n<style scoped>\n    .dataframe tbody tr th:only-of-type {\n        vertical-align: middle;\n    }\n\n    .dataframe tbody tr th {\n        vertical-align: top;\n    }\n\n    .dataframe thead th {\n        text-align: right;\n    }\n</style>\n<table border=\"1\" class=\"dataframe\">\n  <thead>\n    <tr style=\"text-align: right;\">\n      <th></th>\n      <th>Education</th>\n      <th>JoiningYear</th>\n      <th>City</th>\n      <th>PaymentTier</th>\n      <th>Age</th>\n      <th>Gender</th>\n      <th>EverBenched</th>\n      <th>ExperienceInCurrentDomain</th>\n      <th>LeaveOrNot</th>\n    </tr>\n  </thead>\n  <tbody>\n    <tr>\n      <th>0</th>\n      <td>0</td>\n      <td>2017</td>\n      <td>0</td>\n      <td>2</td>\n      <td>34</td>\n      <td>1</td>\n      <td>0</td>\n      <td>0</td>\n      <td>0</td>\n    </tr>\n    <tr>\n      <th>1</th>\n      <td>0</td>\n      <td>2013</td>\n      <td>2</td>\n      <td>0</td>\n      <td>28</td>\n      <td>0</td>\n      <td>0</td>\n      <td>3</td>\n      <td>1</td>\n    </tr>\n    <tr>\n      <th>2</th>\n      <td>0</td>\n      <td>2014</td>\n      <td>1</td>\n      <td>2</td>\n      <td>38</td>\n      <td>0</td>\n      <td>0</td>\n      <td>2</td>\n      <td>0</td>\n    </tr>\n    <tr>\n      <th>3</th>\n      <td>1</td>\n      <td>2016</td>\n      <td>0</td>\n      <td>2</td>\n      <td>27</td>\n      <td>1</td>\n      <td>0</td>\n      <td>5</td>\n      <td>1</td>\n    </tr>\n    <tr>\n      <th>4</th>\n      <td>1</td>\n      <td>2017</td>\n      <td>2</td>\n      <td>2</td>\n      <td>24</td>\n      <td>1</td>\n      <td>1</td>\n      <td>2</td>\n      <td>1</td>\n    </tr>\n  </tbody>\n</table>\n</div>"
     },
     "metadata": {}
    }
   ]
  },
  {
   "cell_type": "markdown",
   "source": "# Exploratory Data Analysis",
   "metadata": {
    "tags": [],
    "is_collapsed": false,
    "cell_id": "00017-a2443b3f-feb9-41f8-82ad-7b6384bfcacc",
    "deepnote_cell_type": "text-cell-h1"
   }
  },
  {
   "cell_type": "markdown",
   "source": "### Outlier Detection",
   "metadata": {
    "tags": [],
    "is_collapsed": false,
    "cell_id": "00021-314d9da6-d530-44da-ae87-860adb65b7bb",
    "deepnote_cell_type": "text-cell-h3"
   }
  },
  {
   "cell_type": "code",
   "metadata": {
    "tags": [],
    "cell_id": "00022-4eeabf31-0610-42e6-8a2f-5d47cb10b666",
    "deepnote_to_be_reexecuted": false,
    "source_hash": "21d1e316",
    "execution_start": 1640184121142,
    "execution_millis": 460,
    "deepnote_output_heights": [
     183
    ],
    "deepnote_cell_type": "code"
   },
   "source": "#Create box plot each columns in data test\nimport random\nplt.figure(figsize=(20,12))\nplt.suptitle('Box Plot of Each Variable',y=(0.93),x=(0.35), fontsize=25)\n\n\nnumber_of_colors = len(df.columns)\n\ncolor = [\"#\"+''.join([random.choice('0123456789ABCDEF') for j in range(6)])\n             for i in range(number_of_colors)]\nstep = 0\nfor i in ['JoiningYear', 'Age', 'ExperienceInCurrentDomain']:\n  plt.subplot(5,5,step+1)\n  sns.boxplot(x=df[i], color=color[step])\n  step = step +1\n\nplt.subplots_adjust(wspace=0.4,hspace=0.5)\nplt.show()",
   "execution_count": 21,
   "outputs": [
    {
     "data": {
      "text/plain": "<Figure size 1440x864 with 3 Axes>",
      "image/png": "[encoded data removed]"
     },
     "metadata": {
      "needs_background": "light",
      "image/png": {
       "width": 661,
       "height": 181
      }
     },
     "output_type": "display_data"
    }
   ]
  },
  {
   "cell_type": "markdown",
   "source": "### Distribution",
   "metadata": {
    "tags": [],
    "is_collapsed": false,
    "cell_id": "00022-be6048ad-abd2-411d-836f-21a4636c3930",
    "deepnote_cell_type": "text-cell-h3"
   }
  },
  {
   "cell_type": "code",
   "metadata": {
    "tags": [],
    "cell_id": "00023-ea30484d-bd86-4dbf-9b54-c6374eba35dc",
    "deepnote_to_be_reexecuted": false,
    "source_hash": "da3ef870",
    "execution_start": 1640184121658,
    "execution_millis": 852,
    "deepnote_output_heights": [
     169
    ],
    "deepnote_cell_type": "code"
   },
   "source": "#Create box plot each columns in data test\nimport random\nplt.figure(figsize=(20,12))\nplt.suptitle('Dist. Plot of Each Variable',y=(0.93),x=(0.35), fontsize=25)\n\n\nnumber_of_colors = len(df.columns)\n\ncolor = [\"#\"+''.join([random.choice('0123456789ABCDEF') for j in range(6)])\n             for i in range(number_of_colors)]\nstep = 0\nfor i in ['JoiningYear', 'Age', 'ExperienceInCurrentDomain']:\n  plt.subplot(5,5,step+1)\n  sns.distplot(x=df[i], color=color[step])\n  step = step +1\n\nplt.subplots_adjust(wspace=0.4,hspace=0.5)\nplt.show()",
   "execution_count": 22,
   "outputs": [
    {
     "data": {
      "text/plain": "<Figure size 1440x864 with 3 Axes>",
      "image/png": "[encoded data removed]"
     },
     "metadata": {
      "needs_background": "light",
      "image/png": {
       "width": 693,
       "height": 167
      }
     },
     "output_type": "display_data"
    }
   ]
  },
  {
   "cell_type": "markdown",
   "source": "### Feature Importance",
   "metadata": {
    "tags": [],
    "is_collapsed": false,
    "cell_id": "00024-39679298-f40e-4afa-bf50-b97f55633b59",
    "deepnote_cell_type": "text-cell-h3"
   }
  },
  {
   "cell_type": "code",
   "metadata": {
    "tags": [],
    "cell_id": "00025-989d2be9-bdc7-4da8-a4d5-ab50a5f25cff",
    "deepnote_to_be_reexecuted": false,
    "source_hash": "89f2ebfc",
    "execution_start": 1640184122518,
    "execution_millis": 1330,
    "deepnote_output_heights": [
     282
    ],
    "deepnote_cell_type": "code"
   },
   "source": "from sklearn.ensemble import RandomForestClassifier\nfrom sklearn.tree import DecisionTreeClassifier\n\nX = df.drop(columns = 'LeaveOrNot')\ny = df['LeaveOrNot']\n\n# define the model\nmodel_rf = RandomForestClassifier()\nmodel_dt = DecisionTreeClassifier()\n\n# fit the model\nmodel_rf.fit(X, y)\nmodel_dt.fit(X, y)\n\n# get importance\nimportance_rf = np.round(model_rf.feature_importances_,2)\nimportance_dt = np.round(model_dt.feature_importances_,2)\n\n# create label for x acis\nlabels = ['0', '1', '2', '3',\n           '4', '5', '6', '7']\n\n# label location\nx = np.arange(len(labels))\n\n# set width of bars\nwidth = 0.35 \n\n# create bar plot\nfig, ax = plt.subplots()\nrects1 = ax.bar(x - width/2, importance_rf, width, label='Random Forest')\nrects2 = ax.bar(x + width/2, importance_dt, width, label='Decision Tree')\n\n# add a horizontal line\nax.axhline(np.median(importance_rf), color='blue', linewidth=2)\nax.axhline(np.median(importance_dt), color='orange', linewidth=2)\n\n# Add some text for labels, title and custom x-axis tick labels, etc.\nax.set_xlabel('Feature Index')\nax.set_ylabel('Feature Importance')\nax.set_title('Feature Importance Comparison\\n')\nax.legend()\n\n# add a bar label\nax.bar_label(rects1, padding=3, rotation = 45)\nax.bar_label(rects2, padding=3, rotation = 45)\n\nfig.tight_layout()\n\nplt.grid()\n\nplt.show()",
   "execution_count": 23,
   "outputs": [
    {
     "data": {
      "text/plain": "<Figure size 432x288 with 1 Axes>",
      "image/png": "[encoded data removed]"
     },
     "metadata": {
      "needs_background": "light",
      "image/png": {
       "width": 424,
       "height": 280
      }
     },
     "output_type": "display_data"
    }
   ]
  },
  {
   "cell_type": "markdown",
   "source": "<a style='text-decoration:none;line-height:16px;display:flex;color:#5B5B62;padding:10px;justify-content:end;' href='https://deepnote.com?utm_source=created-in-deepnote-cell&projectId=e73b0e71-d542-44f1-99fa-91c86221896d' target=\"_blank\">\n<img alt='Created in deepnote.com' style='display:inline;max-height:16px;margin:0px;margin-right:7.5px;' src='data:image/svg+xml;base64,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' > </img>\nCreated in <span style='font-weight:600;margin-left:4px;'>Deepnote</span></a>",
   "metadata": {
    "tags": [],
    "created_in_deepnote_cell": true,
    "deepnote_cell_type": "markdown"
   }
  }
 ],
 "nbformat": 4,
 "nbformat_minor": 2,
 "metadata": {
  "orig_nbformat": 2,
  "deepnote": {
   "is_reactive": false
  },
  "deepnote_notebook_id": "384973af-1f67-4752-8a6f-aea243000c32",
  "deepnote_execution_queue": []
 }
}